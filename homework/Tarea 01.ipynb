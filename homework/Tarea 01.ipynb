{
 "cells": [
  {
   "cell_type": "markdown",
   "metadata": {},
   "source": [
    "### 1. Elaborar un programa que pregunte ingresos y egresos, calcule el superavit (ingresos - egresos), e imprima si la persona genera ganancias o requiere prestamo"
   ]
  },
  {
   "cell_type": "code",
   "execution_count": 2,
   "metadata": {},
   "outputs": [
    {
     "name": "stdout",
     "output_type": "stream",
     "text": [
      "ingresos totales: 4000\n",
      "gastos totales: 5600\n",
      "Tienes una situacion economica mala, consigue credito., tu balance es $-1600.0\n"
     ]
    }
   ],
   "source": [
    "i = float(input('ingresos totales: '))\n",
    "e = float(input('gastos totales: '))\n",
    "\n",
    "s = i - e\n",
    "\n",
    "if s > 0:\n",
    "    estado = 'buena'\n",
    "elif s < 0:\n",
    "    estado = 'mala, consigue credito.'\n",
    "else:\n",
    "    estado = 'aburrida'\n",
    "    \n",
    "    \n",
    "print(f'Tienes una situacion economica {estado}, tu balance es ${s}')"
   ]
  },
  {
   "cell_type": "markdown",
   "metadata": {},
   "source": [
    "### 2. Crear un programa para agregar ligues a una base de datos (lista de listas), agregar 3 cualidades de la persona, construir un algoritmo para priorizar nuestra atencion a esos ligues, basado en 1 atributo"
   ]
  },
  {
   "cell_type": "code",
   "execution_count": 17,
   "metadata": {},
   "outputs": [
    {
     "name": "stdout",
     "output_type": "stream",
     "text": [
      "Ganador: Raul\n"
     ]
    }
   ],
   "source": [
    "#atributos de ligues\n",
    "#1. nombre - ID\n",
    "#2. sexo - Variable Categorica / M: mujer & H: hombre\n",
    "#3. altura - Variable Numerica / [0,inf) metros\n",
    "#4. salario - Variable Numerica / [0,inf) pesos mexicanos\n",
    "\n",
    "######################################\n",
    "#crear base\n",
    "base = []\n",
    "\n",
    "#agregar elementos a base\n",
    "ligue1 = ['Sofia','M',1.6,4500]\n",
    "ligue2 = ['Raul','H',1.8,2500]\n",
    "\n",
    "base.append(ligue1)\n",
    "base.append(ligue2)\n",
    "\n",
    "#criterio a maximizar\n",
    "criterio = 2\n",
    "\n",
    "#extraer valores\n",
    "valores = []\n",
    "for l in base:\n",
    "    valores.append(l[criterio])\n",
    "    \n",
    "#maximizar el valor\n",
    "valor_maximo = max(valores)\n",
    "ligue_maximo = valores.index(valor_maximo)\n",
    "\n",
    "#imprimir ganador\n",
    "winner = base[ligue_maximo][0]\n",
    "print(f'Ganador: {winner}')"
   ]
  }
 ],
 "metadata": {
  "kernelspec": {
   "display_name": "Python 3",
   "language": "python",
   "name": "python3"
  },
  "language_info": {
   "codemirror_mode": {
    "name": "ipython",
    "version": 3
   },
   "file_extension": ".py",
   "mimetype": "text/x-python",
   "name": "python",
   "nbconvert_exporter": "python",
   "pygments_lexer": "ipython3",
   "version": "3.8.5"
  }
 },
 "nbformat": 4,
 "nbformat_minor": 4
}
