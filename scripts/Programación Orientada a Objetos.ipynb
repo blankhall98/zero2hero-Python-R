{
 "cells": [
  {
   "cell_type": "markdown",
   "metadata": {},
   "source": [
    "# Programación Orientada a Objetos en Python"
   ]
  },
  {
   "cell_type": "markdown",
   "metadata": {},
   "source": [
    "Una clase de $\\bf{zero2hero}$.\n",
    "\n",
    "Instructor: Jonatan Blank"
   ]
  },
  {
   "cell_type": "markdown",
   "metadata": {},
   "source": [
    "### Librerias"
   ]
  },
  {
   "cell_type": "code",
   "execution_count": 46,
   "metadata": {},
   "outputs": [],
   "source": [
    "# Análisis Numérico\n",
    "import numpy as np\n",
    "\n",
    "# Gráficas Básicas\n",
    "import matplotlib.pyplot as plt\n",
    "\n",
    "# Gráficas Avanzadas\n",
    "import seaborn as sns\n",
    "\n",
    "# Manipulación de Data\n",
    "import pandas as pd"
   ]
  },
  {
   "cell_type": "markdown",
   "metadata": {},
   "source": [
    "### Repaso de Funciones"
   ]
  },
  {
   "cell_type": "code",
   "execution_count": 2,
   "metadata": {},
   "outputs": [],
   "source": [
    "def Saludar():\n",
    "    print('Hola, Buenos días')"
   ]
  },
  {
   "cell_type": "code",
   "execution_count": 4,
   "metadata": {},
   "outputs": [],
   "source": [
    "def Saludar2(name):\n",
    "    print(f'Buenos días {name}')"
   ]
  },
  {
   "cell_type": "code",
   "execution_count": 7,
   "metadata": {},
   "outputs": [],
   "source": [
    "# sex - string - \"Male\", \"Female\"\n",
    "def Saludar3(name,sex):\n",
    "    \n",
    "    if sex == 'Male':\n",
    "        title = 'Sr.'\n",
    "    elif sex == 'Female':\n",
    "        title = 'Sra.'\n",
    "    else:\n",
    "        title = ''\n",
    "        \n",
    "    print(f'Buenos días {title} {name}')"
   ]
  },
  {
   "cell_type": "code",
   "execution_count": 9,
   "metadata": {},
   "outputs": [
    {
     "name": "stdout",
     "output_type": "stream",
     "text": [
      "Buenos días Sr. Jonatan\n"
     ]
    }
   ],
   "source": [
    "Saludar3('Jonatan','Male')"
   ]
  },
  {
   "cell_type": "markdown",
   "metadata": {},
   "source": [
    "### \"Clases\""
   ]
  },
  {
   "cell_type": "code",
   "execution_count": 25,
   "metadata": {},
   "outputs": [],
   "source": [
    "class duck:\n",
    "    \n",
    "    def __init__(self,tipo):\n",
    "        self.type = tipo\n",
    "        print('quack quack')\n",
    "    \n",
    "    def walk(self):\n",
    "        print('clap clap clap')\n",
    "        \n",
    "    def info(self):\n",
    "        print(f'Quack, i am a {self.type} duck!')"
   ]
  },
  {
   "cell_type": "code",
   "execution_count": 26,
   "metadata": {},
   "outputs": [
    {
     "name": "stdout",
     "output_type": "stream",
     "text": [
      "quack quack\n"
     ]
    }
   ],
   "source": [
    "d = duck('Alabio')"
   ]
  },
  {
   "cell_type": "code",
   "execution_count": 27,
   "metadata": {},
   "outputs": [
    {
     "name": "stdout",
     "output_type": "stream",
     "text": [
      "clap clap clap\n"
     ]
    }
   ],
   "source": [
    "d.walk()"
   ]
  },
  {
   "cell_type": "code",
   "execution_count": 29,
   "metadata": {},
   "outputs": [
    {
     "name": "stdout",
     "output_type": "stream",
     "text": [
      "Quack, i am a Alabio duck!\n"
     ]
    }
   ],
   "source": [
    "d.info()"
   ]
  },
  {
   "cell_type": "markdown",
   "metadata": {},
   "source": [
    "#### CLASE HUMANO\n",
    "\n",
    "Atributos de los humanos:\n",
    "\n",
    "    - Sexo\n",
    "    - Edad\n",
    "    - Nacionalidad"
   ]
  },
  {
   "cell_type": "code",
   "execution_count": 2,
   "metadata": {},
   "outputs": [],
   "source": [
    "class Human:\n",
    "    \n",
    "    def __init__(self,sex,age,nation):\n",
    "        self.sex = sex\n",
    "        self.age = age\n",
    "        self.nation = nation"
   ]
  },
  {
   "cell_type": "code",
   "execution_count": 34,
   "metadata": {},
   "outputs": [],
   "source": [
    "h = Human('M',28,'Europe')"
   ]
  },
  {
   "cell_type": "markdown",
   "metadata": {},
   "source": [
    "#### CLASE MUNDO"
   ]
  },
  {
   "cell_type": "code",
   "execution_count": 77,
   "metadata": {},
   "outputs": [],
   "source": [
    "continents = {\n",
    "    'America': 10000,\n",
    "    'Asia': 50000,\n",
    "    'Europe': 8000,\n",
    "    'Africa': 8500,\n",
    "    'Oceania': 3000\n",
    "}\n",
    "\n",
    "parameters = {\n",
    "    'female-male-ratio': .52\n",
    "}"
   ]
  },
  {
   "cell_type": "code",
   "execution_count": 78,
   "metadata": {},
   "outputs": [],
   "source": [
    "class World:\n",
    "    \n",
    "    def __init__(self,class_human,continents,parameters):\n",
    "        self.human = class_human\n",
    "        self.continents = continents\n",
    "        self.parameters = parameters\n",
    "        \n",
    "    def simulate_sex(self):\n",
    "        females = {}\n",
    "        for cont in list(self.continents.keys()):\n",
    "            count_females = 0\n",
    "            for i in range(self.continents[cont]):\n",
    "                s = np.random.choice(['Male','Female'],p=[1-parameters['female-male-ratio'],parameters['female-male-ratio']])\n",
    "                if s == 'Female':\n",
    "                    count_females += 1\n",
    "            females[cont] = count_females\n",
    "        self.females = females\n",
    "        \n",
    "    def create_humans(self):\n",
    "        humans = {}\n",
    "        for cont in list(self.continents.keys()):\n",
    "            continent_humans = []\n",
    "            for i in range(self.continents[cont]):\n",
    "                h = Human(np.random.choice(['Male','Female'],p=[1-parameters['female-male-ratio'],parameters['female-male-ratio']]),int(np.random.normal(35,15,1)[0]),cont)\n",
    "                continent_humans.append(h)\n",
    "            humans[cont] = continent_humans\n",
    "        self.humans = humans\n",
    "        \n",
    "    def pop_evolution(pop,rate,time):\n",
    "        return pop*(1+rate)**time\n",
    "        \n",
    "    def simulate_growth(self,growth_rate,simu_time):\n",
    "        \n",
    "        time = np.arange(1,simu_time+1)\n",
    "        \n",
    "        plt.figure(figsize = (10,8))\n",
    "        plt.title(f'Population Evolution')\n",
    "        plt.xlabel('Years in Future')\n",
    "        plt.ylabel('Population')\n",
    "        for cont in list(self.continents.keys()):\n",
    "            initial_population = self.continents[cont]\n",
    "            plt.plot(time,pop_evolution(initial_population,growth_rate,time),label=cont)\n",
    "        plt.legend()\n",
    "        plt.show()"
   ]
  },
  {
   "cell_type": "code",
   "execution_count": 79,
   "metadata": {},
   "outputs": [],
   "source": [
    "W = World(Human,continents,parameters)"
   ]
  },
  {
   "cell_type": "code",
   "execution_count": 60,
   "metadata": {},
   "outputs": [],
   "source": [
    "W.create_humans()"
   ]
  },
  {
   "cell_type": "code",
   "execution_count": 80,
   "metadata": {},
   "outputs": [
    {
     "data": {
      "image/png": "[encoded data removed]",
      "text/plain": [
       "<Figure size 720x576 with 1 Axes>"
      ]
     },
     "metadata": {
      "needs_background": "light"
     },
     "output_type": "display_data"
    }
   ],
   "source": [
    "W.simulate_growth(.01,75)"
   ]
  },
  {
   "cell_type": "markdown",
   "metadata": {},
   "source": [
    "#### INTERACCIÓN DE CLASES"
   ]
  },
  {
   "cell_type": "code",
   "execution_count": null,
   "metadata": {},
   "outputs": [],
   "source": []
  },
  {
   "cell_type": "markdown",
   "metadata": {},
   "source": [
    "### Proyecto: SIMULACIÓN FINANCIERA"
   ]
  },
  {
   "cell_type": "markdown",
   "metadata": {},
   "source": [
    "El proyecto consiste en crear una simulación del futuro de nuestras finanzas personales a $\\bf{t}$ años en el futuro. Toma en cuenta:\n",
    "\n",
    "    - Salario\n",
    "    - Aumento salarian anual\n",
    "    - Inflación anual\n",
    "    - Distribución de los gastos\n",
    "    - Ahorro e Inversión\n",
    "    \n",
    "Si además, se incluyen metas económicas - especificando el tiempo a cumplirse - se puede dar una calificación del grado de alcance de nuestras metas."
   ]
  },
  {
   "cell_type": "markdown",
   "metadata": {},
   "source": [
    "#### Parámetros Iniciales"
   ]
  },
  {
   "cell_type": "code",
   "execution_count": 3,
   "metadata": {},
   "outputs": [],
   "source": [
    "inputs = {\n",
    "    'salary': 0,\n",
    "    'anual-salary-change': 0,\n",
    "    'anual-inflation': 0,\n",
    "    'expenses': {\n",
    "        'fixed': 0,\n",
    "        'variable': 0,\n",
    "        'investment': 0\n",
    "    },\n",
    "    'savings': {\n",
    "        'saved': 0,\n",
    "        'investment-rate': 0\n",
    "    }\n",
    "}"
   ]
  },
  {
   "cell_type": "code",
   "execution_count": null,
   "metadata": {},
   "outputs": [],
   "source": [
    "goals = [\n",
    "    {'goal': 0,\n",
    "    'today-price': 0,\n",
    "    'time-goal': 0}\n",
    "]"
   ]
  },
  {
   "cell_type": "markdown",
   "metadata": {},
   "source": [
    "#### Resultado Utópico"
   ]
  },
  {
   "cell_type": "markdown",
   "metadata": {},
   "source": [
    "comando:\n",
    "\n",
    "    model = model_class(inputs,goals,simulation_time)\n",
    "\n",
    "return: \n",
    "\n",
    "    1. Análisis anual de las finanzas personales, hasta consumir el tiempo de simulación.\n",
    "    2. Grado de cumplimiento de las metas establecidas."
   ]
  },
  {
   "cell_type": "markdown",
   "metadata": {},
   "source": [
    "#### Construcción de la Clase"
   ]
  },
  {
   "cell_type": "code",
   "execution_count": null,
   "metadata": {},
   "outputs": [],
   "source": [
    "class FinancialFutureModel:\n",
    "    \n",
    "    def __init__(self,inputs,time):\n",
    "        self.inputs = inputs\n",
    "        self.time = time\n",
    "        \n",
    "    def predict_future_salary():\n",
    "        pass\n",
    "    \n",
    "    def add_inflation():\n",
    "        pass\n",
    "    \n",
    "    def expense_distribution():\n",
    "        pass\n",
    "    \n",
    "    def predict_future_savings():\n",
    "        pass\n",
    "    \n",
    "    def financial_report():\n",
    "        pass\n",
    "    \n",
    "    def goal_analysis():\n",
    "        pass\n",
    "    \n",
    "    def goal_report():\n",
    "        pass\n",
    "    \n",
    "    def final_report():\n",
    "        pass"
   ]
  },
  {
   "cell_type": "markdown",
   "metadata": {},
   "source": [
    "#### Inicialización de la Clase"
   ]
  },
  {
   "cell_type": "code",
   "execution_count": null,
   "metadata": {},
   "outputs": [],
   "source": [
    "ffm = FinancialFutureModel()"
   ]
  }
 ],
 "metadata": {
  "kernelspec": {
   "display_name": "Python 3",
   "language": "python",
   "name": "python3"
  },
  "language_info": {
   "codemirror_mode": {
    "name": "ipython",
    "version": 3
   },
   "file_extension": ".py",
   "mimetype": "text/x-python",
   "name": "python",
   "nbconvert_exporter": "python",
   "pygments_lexer": "ipython3",
   "version": "3.8.5"
  }
 },
 "nbformat": 4,
 "nbformat_minor": 4
}
