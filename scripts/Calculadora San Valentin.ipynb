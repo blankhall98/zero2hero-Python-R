{
 "cells": [
  {
   "cell_type": "code",
   "execution_count": 1,
   "metadata": {},
   "outputs": [],
   "source": [
    "inputs = {\n",
    "    'budget': 2500\n",
    "}"
   ]
  },
  {
   "cell_type": "code",
   "execution_count": 14,
   "metadata": {},
   "outputs": [],
   "source": [
    "expenses = {\n",
    "    'transport': {\n",
    "        'cost': 100,\n",
    "        'weight': 10\n",
    "    },\n",
    "    'gift': {\n",
    "        'cost': 500,\n",
    "        'weight': 8\n",
    "    },\n",
    "    'flowers': {\n",
    "        'cost': 150,\n",
    "        'weight': 8\n",
    "    },\n",
    "    'dinner': {\n",
    "        'cost': 800,\n",
    "        'weight': 5\n",
    "    },\n",
    "    'cinema': {\n",
    "        'cost': 500,\n",
    "        'weight': 2\n",
    "    },\n",
    "    'travel': {\n",
    "        'cost': 600,\n",
    "        'weight': 10\n",
    "    },\n",
    "    'condoms': {\n",
    "        'cost': 100,\n",
    "        'weight': 5\n",
    "    },\n",
    "    'lingerei': {\n",
    "        'cost': 1000,\n",
    "        'weight': 7\n",
    "    }\n",
    "}"
   ]
  },
  {
   "cell_type": "markdown",
   "metadata": {},
   "source": [
    "Calcular precio total si adquiero todas mis expenses"
   ]
  },
  {
   "cell_type": "code",
   "execution_count": 6,
   "metadata": {},
   "outputs": [
    {
     "name": "stdout",
     "output_type": "stream",
     "text": [
      "Costo total: $3750\n"
     ]
    }
   ],
   "source": [
    "total = 0\n",
    "for e in expenses:\n",
    "    total = total + expenses[e]['cost']\n",
    "print(f'Costo total: ${total}')"
   ]
  },
  {
   "cell_type": "markdown",
   "metadata": {},
   "source": [
    "Comprobar si nos alcanza adquirir todo"
   ]
  },
  {
   "cell_type": "code",
   "execution_count": 9,
   "metadata": {},
   "outputs": [
    {
     "name": "stdout",
     "output_type": "stream",
     "text": [
      "No te alcanza, falta $1250\n"
     ]
    }
   ],
   "source": [
    "if total > inputs['budget']:\n",
    "    print(f\"No te alcanza, falta ${total-inputs['budget']}\")"
   ]
  },
  {
   "cell_type": "markdown",
   "metadata": {},
   "source": [
    "Algoritmo de Decision"
   ]
  },
  {
   "cell_type": "code",
   "execution_count": 48,
   "metadata": {},
   "outputs": [
    {
     "name": "stdout",
     "output_type": "stream",
     "text": [
      "['transport', 'travel', 'flowers', 'condoms']\n",
      "Budget left: 50\n"
     ]
    }
   ],
   "source": [
    "inputs = {\n",
    "    'budget': 1000\n",
    "}\n",
    "\n",
    "item = []\n",
    "price = []\n",
    "weight = []\n",
    "\n",
    "selection = []\n",
    "\n",
    "for e in expenses:\n",
    "    item.append(e)\n",
    "    price.append(expenses[e]['cost'])\n",
    "    weight.append(expenses[e]['weight'])\n",
    "    \n",
    "#selection\n",
    "while inputs['budget'] > 0 and len(weight) > 0:\n",
    "    f = max(weight)\n",
    "    m = weight.index(f)\n",
    "    \n",
    "    if inputs['budget'] - price[m] < 0:\n",
    "        weight.pop(m)\n",
    "        price.pop(m)\n",
    "        item.pop(m)\n",
    "    else:\n",
    "        selection.append(item[m]) \n",
    "        inputs['budget'] = inputs['budget'] - price[m]\n",
    "\n",
    "        weight.pop(m)\n",
    "        price.pop(m)\n",
    "        item.pop(m)\n",
    "    \n",
    "#output\n",
    "print(selection)\n",
    "print(f\"Budget left: {inputs['budget']}\")"
   ]
  }
 ],
 "metadata": {
  "kernelspec": {
   "display_name": "Python 3",
   "language": "python",
   "name": "python3"
  },
  "language_info": {
   "codemirror_mode": {
    "name": "ipython",
    "version": 3
   },
   "file_extension": ".py",
   "mimetype": "text/x-python",
   "name": "python",
   "nbconvert_exporter": "python",
   "pygments_lexer": "ipython3",
   "version": "3.8.5"
  }
 },
 "nbformat": 4,
 "nbformat_minor": 4
}
