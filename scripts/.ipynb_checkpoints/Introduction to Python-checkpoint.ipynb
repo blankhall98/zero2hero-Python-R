{
 "cells": [
  {
   "cell_type": "markdown",
   "metadata": {},
   "source": [
    "# Introduction to Python\n",
    "\n",
    "### Zero2Hero Academy"
   ]
  },
  {
   "cell_type": "markdown",
   "metadata": {},
   "source": [
    "#### 1. Variables"
   ]
  },
  {
   "cell_type": "code",
   "execution_count": 3,
   "metadata": {},
   "outputs": [],
   "source": [
    "x = 5\n",
    "y = 10"
   ]
  },
  {
   "cell_type": "code",
   "execution_count": 4,
   "metadata": {},
   "outputs": [
    {
     "data": {
      "text/plain": [
       "15"
      ]
     },
     "execution_count": 4,
     "metadata": {},
     "output_type": "execute_result"
    }
   ],
   "source": [
    "x+y"
   ]
  },
  {
   "cell_type": "code",
   "execution_count": 5,
   "metadata": {},
   "outputs": [
    {
     "data": {
      "text/plain": [
       "-5"
      ]
     },
     "execution_count": 5,
     "metadata": {},
     "output_type": "execute_result"
    }
   ],
   "source": [
    "x-y"
   ]
  },
  {
   "cell_type": "code",
   "execution_count": 6,
   "metadata": {},
   "outputs": [
    {
     "data": {
      "text/plain": [
       "0.3125"
      ]
     },
     "execution_count": 6,
     "metadata": {},
     "output_type": "execute_result"
    }
   ],
   "source": [
    "10*(x/y)**x"
   ]
  },
  {
   "cell_type": "code",
   "execution_count": 13,
   "metadata": {},
   "outputs": [],
   "source": [
    "a = 10\n",
    "c = 7.5\n",
    "b = \"\""
   ]
  },
  {
   "cell_type": "code",
   "execution_count": 25,
   "metadata": {},
   "outputs": [
    {
     "name": "stdout",
     "output_type": "stream",
     "text": [
      "Nombre: Jonatan\n"
     ]
    }
   ],
   "source": [
    "name = input('Nombre: ')\n",
    "age = \"24\""
   ]
  },
  {
   "cell_type": "code",
   "execution_count": 24,
   "metadata": {},
   "outputs": [
    {
     "data": {
      "text/plain": [
       "'Jonatan tiene 24 anios'"
      ]
     },
     "execution_count": 24,
     "metadata": {},
     "output_type": "execute_result"
    }
   ],
   "source": [
    "name+' tiene '+str(age)+' anios'"
   ]
  },
  {
   "cell_type": "code",
   "execution_count": 27,
   "metadata": {},
   "outputs": [
    {
     "data": {
      "text/plain": [
       "2.4"
      ]
     },
     "execution_count": 27,
     "metadata": {},
     "output_type": "execute_result"
    }
   ],
   "source": [
    "int(age)/10"
   ]
  },
  {
   "cell_type": "markdown",
   "metadata": {},
   "source": [
    "#### 2. Logica"
   ]
  },
  {
   "cell_type": "code",
   "execution_count": 1,
   "metadata": {},
   "outputs": [
    {
     "data": {
      "text/plain": [
       "False"
      ]
     },
     "execution_count": 1,
     "metadata": {},
     "output_type": "execute_result"
    }
   ],
   "source": [
    "10 < 3"
   ]
  },
  {
   "cell_type": "code",
   "execution_count": 36,
   "metadata": {},
   "outputs": [
    {
     "name": "stdout",
     "output_type": "stream",
     "text": [
      "username: h\n",
      "password: h\n"
     ]
    },
    {
     "data": {
      "text/plain": [
       "False"
      ]
     },
     "execution_count": 36,
     "metadata": {},
     "output_type": "execute_result"
    }
   ],
   "source": [
    "username = \"blankdank\"\n",
    "password = \"1234\"\n",
    "\n",
    "user_username = input('username: ')\n",
    "user_password = input('password: ')\n",
    "\n",
    "username == user_username and password == user_password"
   ]
  },
  {
   "cell_type": "code",
   "execution_count": 46,
   "metadata": {},
   "outputs": [
    {
     "name": "stdout",
     "output_type": "stream",
     "text": [
      "age: 30\n",
      "monthly colaboration: 25.5\n"
     ]
    },
    {
     "data": {
      "text/plain": [
       "True"
      ]
     },
     "execution_count": 46,
     "metadata": {},
     "output_type": "execute_result"
    }
   ],
   "source": [
    "nombre = 'christopher'\n",
    "edad = 29\n",
    "\n",
    "# criterios de seleccion\n",
    "edad_max = 45\n",
    "remuneracion_min = 200000\n",
    "\n",
    "#aplicacion para que sugar mommies hagan match con sugar babies\n",
    "user_age = input('age: ')\n",
    "user_monthly = input('monthly colaboration: ')\n",
    "\n",
    "#modelo de clasificacion\n",
    "edad_max >= int(user_age) or float(user_monthly) >= remuneracion_min"
   ]
  },
  {
   "cell_type": "code",
   "execution_count": 8,
   "metadata": {},
   "outputs": [
    {
     "name": "stdout",
     "output_type": "stream",
     "text": [
      "edad: 24\n"
     ]
    },
    {
     "data": {
      "text/plain": [
       "True"
      ]
     },
     "execution_count": 8,
     "metadata": {},
     "output_type": "execute_result"
    }
   ],
   "source": [
    "#ejemplo discoteca\n",
    "edad = input('edad: ')\n",
    "edad = int(edad)\n",
    "\n",
    "#criterio de decision para permitir entrada a discoteca\n",
    "edad >= 18"
   ]
  },
  {
   "cell_type": "markdown",
   "metadata": {},
   "source": [
    "#### 3. Condicionales"
   ]
  },
  {
   "cell_type": "code",
   "execution_count": 21,
   "metadata": {},
   "outputs": [
    {
     "name": "stdout",
     "output_type": "stream",
     "text": [
      "edad: 16\n",
      "No puedes entrar\n"
     ]
    }
   ],
   "source": [
    "edad = input('edad: ')\n",
    "edad = int(edad)\n",
    "if edad >= 18:\n",
    "    print('Puedes entrar')\n",
    "else:\n",
    "    print('No puedes entrar')"
   ]
  },
  {
   "cell_type": "markdown",
   "metadata": {},
   "source": [
    "Ejemplo Log In"
   ]
  },
  {
   "cell_type": "code",
   "execution_count": 22,
   "metadata": {},
   "outputs": [],
   "source": [
    "#datos reales del usuario\n",
    "password = '1234'\n",
    "username = 'blankhall'"
   ]
  },
  {
   "cell_type": "code",
   "execution_count": 36,
   "metadata": {},
   "outputs": [
    {
     "name": "stdout",
     "output_type": "stream",
     "text": [
      "username: blankhall\n",
      "password: 1234\n"
     ]
    }
   ],
   "source": [
    "#log in\n",
    "usr = input('username: ')\n",
    "pss = input('password: ')"
   ]
  },
  {
   "cell_type": "code",
   "execution_count": 38,
   "metadata": {},
   "outputs": [
    {
     "name": "stdout",
     "output_type": "stream",
     "text": [
      "Acceso permitido\n"
     ]
    }
   ],
   "source": [
    "#validation\n",
    "if password == pss and usr == username:\n",
    "    print('Acceso permitido')\n",
    "else:\n",
    "    print('Usuario o Contrasena incorrectos')"
   ]
  },
  {
   "cell_type": "markdown",
   "metadata": {},
   "source": [
    "if-else"
   ]
  },
  {
   "cell_type": "code",
   "execution_count": 43,
   "metadata": {},
   "outputs": [
    {
     "name": "stdout",
     "output_type": "stream",
     "text": [
      "nombre del alumno: fede\n",
      "calificacion del alumno: 6.1\n",
      "El alumno fede tiene una calificacion de 6.1/10, lo que le otorga un estado de condicionado\n"
     ]
    }
   ],
   "source": [
    "# 0-5 reprobado\n",
    "# 6 condicionado\n",
    "# 7-10 aprobado\n",
    "\n",
    "#variables input\n",
    "nombre = input('nombre del alumno: ')\n",
    "calif = float(input('calificacion del alumno: '))\n",
    "\n",
    "\n",
    "estado_alumno = ''\n",
    "#codigo de clasificacion\n",
    "if calif < 6:\n",
    "    estado_alumno = 'reprobado'\n",
    "elif calif >= 6 and calif < 7:\n",
    "    estado_alumno = 'condicionado'\n",
    "else:\n",
    "    estado_alumno = 'aprobado'\n",
    "\n",
    "#resultado\n",
    "print(f'El alumno {nombre} tiene una calificacion de {calif}/10, lo que le otorga un estado de {estado_alumno}')"
   ]
  },
  {
   "cell_type": "code",
   "execution_count": 46,
   "metadata": {},
   "outputs": [
    {
     "name": "stdout",
     "output_type": "stream",
     "text": [
      "nacionalidadHolandes\n",
      "Hey\n"
     ]
    }
   ],
   "source": [
    "nacionalidad = input('nacionalidad: ')\n",
    "\n",
    "if nacionalidad == 'Americano':\n",
    "    print('Hello my friend')\n",
    "elif nacionalidad == 'Mexicano':\n",
    "    print('Que pedo wey')\n",
    "elif nacionalidad == 'Aleman':\n",
    "    print('Guten Tag')\n",
    "else:\n",
    "    print('Hey')"
   ]
  },
  {
   "cell_type": "markdown",
   "metadata": {},
   "source": [
    "#### 4. Listas"
   ]
  },
  {
   "cell_type": "code",
   "execution_count": 49,
   "metadata": {},
   "outputs": [],
   "source": [
    "amigos = ['Joshua','Benito','Angel']"
   ]
  },
  {
   "cell_type": "code",
   "execution_count": 50,
   "metadata": {},
   "outputs": [
    {
     "data": {
      "text/plain": [
       "3"
      ]
     },
     "execution_count": 50,
     "metadata": {},
     "output_type": "execute_result"
    }
   ],
   "source": [
    "#longitud de la lista\n",
    "len(amigos)"
   ]
  },
  {
   "cell_type": "code",
   "execution_count": 55,
   "metadata": {},
   "outputs": [
    {
     "data": {
      "text/plain": [
       "'Joshua'"
      ]
     },
     "execution_count": 55,
     "metadata": {},
     "output_type": "execute_result"
    }
   ],
   "source": [
    "#acceder a los elementos de la lista\n",
    "amigos[0]"
   ]
  },
  {
   "cell_type": "code",
   "execution_count": 56,
   "metadata": {},
   "outputs": [],
   "source": [
    "#agregar elementos a una lista\n",
    "amigos.append('Paola')"
   ]
  },
  {
   "cell_type": "code",
   "execution_count": 57,
   "metadata": {},
   "outputs": [
    {
     "data": {
      "text/plain": [
       "['Joshua', 'Benito', 'Angel', 'Paola']"
      ]
     },
     "execution_count": 57,
     "metadata": {},
     "output_type": "execute_result"
    }
   ],
   "source": [
    "amigos"
   ]
  },
  {
   "cell_type": "code",
   "execution_count": 58,
   "metadata": {},
   "outputs": [],
   "source": [
    "#eliminar un elemento de la lista\n",
    "amigos.remove('Angel')"
   ]
  },
  {
   "cell_type": "code",
   "execution_count": 59,
   "metadata": {},
   "outputs": [
    {
     "data": {
      "text/plain": [
       "['Joshua', 'Benito', 'Paola']"
      ]
     },
     "execution_count": 59,
     "metadata": {},
     "output_type": "execute_result"
    }
   ],
   "source": [
    "amigos"
   ]
  },
  {
   "cell_type": "code",
   "execution_count": 60,
   "metadata": {},
   "outputs": [
    {
     "ename": "ValueError",
     "evalue": "list.remove(x): x not in list",
     "output_type": "error",
     "traceback": [
      "\u001b[1;31m---------------------------------------------------------------------------\u001b[0m",
      "\u001b[1;31mValueError\u001b[0m                                Traceback (most recent call last)",
      "\u001b[1;32m<ipython-input-60-d7d3b80bc577>\u001b[0m in \u001b[0;36m<module>\u001b[1;34m\u001b[0m\n\u001b[1;32m----> 1\u001b[1;33m \u001b[0mamigos\u001b[0m\u001b[1;33m.\u001b[0m\u001b[0mremove\u001b[0m\u001b[1;33m(\u001b[0m\u001b[1;34m'Angel'\u001b[0m\u001b[1;33m)\u001b[0m\u001b[1;33m\u001b[0m\u001b[1;33m\u001b[0m\u001b[0m\n\u001b[0m",
      "\u001b[1;31mValueError\u001b[0m: list.remove(x): x not in list"
     ]
    }
   ],
   "source": [
    "amigos.remove('Angel')"
   ]
  },
  {
   "cell_type": "markdown",
   "metadata": {},
   "source": [
    "#### 5. Ciclos"
   ]
  },
  {
   "cell_type": "code",
   "execution_count": 62,
   "metadata": {},
   "outputs": [
    {
     "name": "stdout",
     "output_type": "stream",
     "text": [
      "Te quiero mucho novia1, eres unica para mi\n",
      "Te quiero mucho novia2, eres unica para mi\n",
      "Te quiero mucho novia3, eres unica para mi\n"
     ]
    }
   ],
   "source": [
    "novias = ['novia1','novia2','novia3']\n",
    "\n",
    "for n in novias:\n",
    "    print(f'Te quiero mucho {n}, eres unica para mi')"
   ]
  },
  {
   "cell_type": "code",
   "execution_count": 65,
   "metadata": {},
   "outputs": [
    {
     "name": "stdout",
     "output_type": "stream",
     "text": [
      "Ayer sonie contigo novia1, manana te veo para Jugar Boliche\n",
      "Ayer sonie contigo novia2, manana te veo para Ir al Cine\n",
      "Ayer sonie contigo novia3, manana te veo para Ver Netflix\n"
     ]
    }
   ],
   "source": [
    "novias = [\n",
    "    ['novia1',22,'Jugar Boliche'],\n",
    "    ['novia2',21,'Ir al Cine'],\n",
    "    ['novia3',35,'Ver Netflix']\n",
    "]\n",
    "\n",
    "for n in novias:\n",
    "    print(f'Ayer sonie contigo {n[0]}, manana te veo para {n[2]}')"
   ]
  },
  {
   "cell_type": "markdown",
   "metadata": {},
   "source": [
    "#### 6. Funciones"
   ]
  },
  {
   "cell_type": "code",
   "execution_count": 4,
   "metadata": {},
   "outputs": [],
   "source": [
    "def superavit(ingreso,egreso):\n",
    "    s = ingreso - egreso\n",
    "    print(f'Superavit ${s}')"
   ]
  },
  {
   "cell_type": "code",
   "execution_count": 5,
   "metadata": {},
   "outputs": [
    {
     "name": "stdout",
     "output_type": "stream",
     "text": [
      "Superavit $6000\n"
     ]
    }
   ],
   "source": [
    "superavit(14000,8000)"
   ]
  },
  {
   "cell_type": "markdown",
   "metadata": {},
   "source": [
    "Interes Compuesto"
   ]
  },
  {
   "cell_type": "code",
   "execution_count": 6,
   "metadata": {},
   "outputs": [],
   "source": [
    "def IC(monto,periodo,tasa):\n",
    "    ic = monto*(1+tasa)**periodo\n",
    "    return ic"
   ]
  },
  {
   "cell_type": "code",
   "execution_count": 10,
   "metadata": {},
   "outputs": [
    {
     "name": "stdout",
     "output_type": "stream",
     "text": [
      "saldo final de deuda: $3830.777113560206\n"
     ]
    }
   ],
   "source": [
    "tele = 20000\n",
    "periodo = 24\n",
    "cat = 45/100\n",
    "\n",
    "#interes simple = monto*(1+periodo*tasa)\n",
    "\n",
    "ic = IC((20000*(1+2*.45))/24,24,.45/12)\n",
    "print(f'saldo final de deuda: ${ic}')"
   ]
  },
  {
   "cell_type": "code",
   "execution_count": 11,
   "metadata": {},
   "outputs": [],
   "source": [
    "tiempo = [0,1,2,3,4,5,6,7,8,9]"
   ]
  },
  {
   "cell_type": "code",
   "execution_count": 12,
   "metadata": {},
   "outputs": [
    {
     "name": "stdout",
     "output_type": "stream",
     "text": [
      "1583.3333333333333\n",
      "1642.7083333333335\n",
      "1704.3098958333337\n",
      "1768.2215169270837\n",
      "1834.5298238118494\n",
      "1903.324692204794\n",
      "1974.6993681624738\n",
      "2048.750594468567\n",
      "2125.578741761138\n",
      "2205.2879445771814\n"
     ]
    }
   ],
   "source": [
    "for t in tiempo:\n",
    "    ic = IC((20000*(1+2*.45))/24,t,.45/12)\n",
    "    print(ic)"
   ]
  },
  {
   "cell_type": "code",
   "execution_count": 13,
   "metadata": {},
   "outputs": [],
   "source": [
    "#pasos para hacer una grafica\n",
    "\n",
    "#paso 1: importar paqueteria matplotlib\n",
    "import matplotlib.pyplot as plt"
   ]
  },
  {
   "cell_type": "code",
   "execution_count": 22,
   "metadata": {},
   "outputs": [],
   "source": [
    "#paso 2: tener las variables dependientes e independientes listas (relacion == mismo tamano)\n",
    "tiempo = range(25)\n",
    "\n",
    "valores = []\n",
    "for t in tiempo:\n",
    "    ic = IC((20000*(1+2*.45))/24,t,.45/12)\n",
    "    valores.append(ic)"
   ]
  },
  {
   "cell_type": "code",
   "execution_count": 23,
   "metadata": {},
   "outputs": [
    {
     "data": {
      "text/plain": [
       "[<matplotlib.lines.Line2D at 0x1ed783e6be0>]"
      ]
     },
     "execution_count": 23,
     "metadata": {},
     "output_type": "execute_result"
    },
    {
     "data": {
      "image/png": "[encoded data removed]",
      "text/plain": [
       "<Figure size 432x288 with 1 Axes>"
      ]
     },
     "metadata": {
      "needs_background": "light"
     },
     "output_type": "display_data"
    }
   ],
   "source": [
    "#paso 3: crear figura\n",
    "plt.plot(tiempo,valores)"
   ]
  }
 ],
 "metadata": {
  "kernelspec": {
   "display_name": "Python 3",
   "language": "python",
   "name": "python3"
  },
  "language_info": {
   "codemirror_mode": {
    "name": "ipython",
    "version": 3
   },
   "file_extension": ".py",
   "mimetype": "text/x-python",
   "name": "python",
   "nbconvert_exporter": "python",
   "pygments_lexer": "ipython3",
   "version": "3.8.5"
  }
 },
 "nbformat": 4,
 "nbformat_minor": 4
}
