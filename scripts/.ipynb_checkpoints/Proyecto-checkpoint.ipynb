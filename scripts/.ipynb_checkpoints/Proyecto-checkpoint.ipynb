{
 "cells": [
  {
   "cell_type": "code",
   "execution_count": 1,
   "metadata": {},
   "outputs": [],
   "source": [
    "#importar las bibliotecas que utilizaremos\n",
    "import pandas as pd\n",
    "import numpy as np\n",
    "import matplotlib.pyplot as plt\n",
    "import seaborn as sns"
   ]
  },
  {
   "cell_type": "code",
   "execution_count": 18,
   "metadata": {},
   "outputs": [],
   "source": [
    "#inputs de clase gato\n",
    "mi_gato = {\n",
    "    'name': 'Aslan',\n",
    "    'color': 'Blanco',\n",
    "    'age': 7\n",
    "}"
   ]
  },
  {
   "cell_type": "code",
   "execution_count": 19,
   "metadata": {},
   "outputs": [],
   "source": [
    "#repaso de clases\n",
    "class CAT:\n",
    "    \n",
    "    def __init__(self,inputs):\n",
    "        self.name = inputs['name']\n",
    "        self.color = inputs['color']\n",
    "        self.age = inputs['age']\n",
    "        \n",
    "    def describe(self):\n",
    "        print(f'Mi nombre es {self.name}, tengo {self.age} años y soy de color {self.color}')"
   ]
  },
  {
   "cell_type": "code",
   "execution_count": 20,
   "metadata": {},
   "outputs": [],
   "source": [
    "gato = CAT(mi_gato)"
   ]
  },
  {
   "cell_type": "code",
   "execution_count": 21,
   "metadata": {},
   "outputs": [
    {
     "name": "stdout",
     "output_type": "stream",
     "text": [
      "Mi nombre es Aslan, tengo 7 años y soy de color Blanco\n"
     ]
    }
   ],
   "source": [
    "gato.describe()"
   ]
  },
  {
   "cell_type": "markdown",
   "metadata": {},
   "source": [
    "### Proyecto"
   ]
  },
  {
   "cell_type": "code",
   "execution_count": 38,
   "metadata": {},
   "outputs": [],
   "source": [
    "cartera = {\n",
    "    'owner': 'Jonatan Blank',\n",
    "    'balance': 10000,\n",
    "    'expenses': [],\n",
    "    'incomes': []\n",
    "}"
   ]
  },
  {
   "cell_type": "code",
   "execution_count": 67,
   "metadata": {},
   "outputs": [],
   "source": [
    "class Wallet:\n",
    "    \n",
    "    def __init__(self,inputs):\n",
    "        self.inputs = inputs\n",
    "        active = True\n",
    "        while active:\n",
    "            self.menu()\n",
    "            keep_using = input('Do you want to perform another action (yes/no): ')\n",
    "            if keep_using == 'yes':\n",
    "                active = True\n",
    "            else:\n",
    "                active = False\n",
    "    \n",
    "    def menu(self):\n",
    "        print('-----MENU FINANCIAL WALLET-----')\n",
    "        print('Select an option:')\n",
    "        print('1- Add new expense')\n",
    "        print('2- Add new income')\n",
    "        print('3- See expenses')\n",
    "        print('4- See incomes')\n",
    "        print('----------')\n",
    "        action = input('Action to perform: ')\n",
    "        self.select_action(action)\n",
    "        \n",
    "    def select_action(self,action):\n",
    "        if action == '1':\n",
    "            self.add_expense()\n",
    "        elif action == '2':\n",
    "            self.add_income()\n",
    "        elif action == '3':\n",
    "            self.see_expenses()\n",
    "        elif action == '4':\n",
    "            self.see_incomes()\n",
    "        else:\n",
    "            print('Invalid Action Input. Try Again')\n",
    "    \n",
    "    def add_expense(self):\n",
    "        expense_name = input('Expense name: ')\n",
    "        expense_description = input('Expense description: ')\n",
    "        expense_amount = float(input('Expense amount: '))\n",
    "        self.inputs['expenses'].append(self.create_new(expense_name,expense_description,expense_amount))\n",
    "        \n",
    "    def add_income(self):\n",
    "        income_name = input('Income name: ')\n",
    "        income_description = input('Income description: ')\n",
    "        income_amount = float(input('Income amount: '))\n",
    "        self.inputs['incomes'].append(self.create_new(income_name,income_description,income_amount))\n",
    "    \n",
    "    def create_new(self,name,description,amount):\n",
    "        new = {\n",
    "            'name': name,\n",
    "            'description': description,\n",
    "            'amount': amount\n",
    "        }\n",
    "        return new\n",
    "    \n",
    "    def see_expenses(self):\n",
    "        for expense in self.inputs['expenses']:\n",
    "            print(expense)\n",
    "            \n",
    "    def see_incomes(self):\n",
    "        for income in self.inputs['incomes']:\n",
    "            print(income)"
   ]
  },
  {
   "cell_type": "code",
   "execution_count": 68,
   "metadata": {},
   "outputs": [
    {
     "name": "stdout",
     "output_type": "stream",
     "text": [
      "-----MENU FINANCIAL WALLET-----\n",
      "Select an option:\n",
      "1- Add new expense\n",
      "2- Add new income\n",
      "3- See expenses\n",
      "4- See incomes\n",
      "----------\n",
      "Action to perform: 3\n",
      "{'name': 'Cena', 'description': 'cena con mi mamá', 'amount': 400.0}\n",
      "{'name': 'Cine', 'description': 'cine con morrita', 'amount': 500.0}\n",
      "{'name': 'Comida', 'description': 'ver champions con mis compas', 'amount': 600.0}\n",
      "{'name': 'Cine', 'description': 'saw', 'amount': 200.0}\n",
      "{'name': 'Comida', 'description': 'comida china', 'amount': 300.0}\n",
      "Do you want to perform another action (yes/no): no\n"
     ]
    }
   ],
   "source": [
    "w = Wallet(cartera)"
   ]
  }
 ],
 "metadata": {
  "kernelspec": {
   "display_name": "Python 3",
   "language": "python",
   "name": "python3"
  },
  "language_info": {
   "codemirror_mode": {
    "name": "ipython",
    "version": 3
   },
   "file_extension": ".py",
   "mimetype": "text/x-python",
   "name": "python",
   "nbconvert_exporter": "python",
   "pygments_lexer": "ipython3",
   "version": "3.8.5"
  }
 },
 "nbformat": 4,
 "nbformat_minor": 4
}
