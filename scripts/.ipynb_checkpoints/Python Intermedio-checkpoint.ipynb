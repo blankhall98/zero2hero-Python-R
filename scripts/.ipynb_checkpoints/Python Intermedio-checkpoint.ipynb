{
 "cells": [
  {
   "cell_type": "code",
   "execution_count": 4,
   "metadata": {},
   "outputs": [],
   "source": [
    "#librerias\n",
    "import numpy"
   ]
  },
  {
   "cell_type": "code",
   "execution_count": 5,
   "metadata": {},
   "outputs": [],
   "source": [
    "salarios = [8000,7000,14000,19000,17000,6000,5600]"
   ]
  },
  {
   "cell_type": "code",
   "execution_count": 6,
   "metadata": {},
   "outputs": [],
   "source": [
    "def salario_anual(salario_mensual):\n",
    "    return salario_mensual*12"
   ]
  },
  {
   "cell_type": "code",
   "execution_count": 7,
   "metadata": {},
   "outputs": [
    {
     "data": {
      "text/plain": [
       "204000"
      ]
     },
     "execution_count": 7,
     "metadata": {},
     "output_type": "execute_result"
    }
   ],
   "source": [
    "salario_anual(17000)"
   ]
  },
  {
   "cell_type": "code",
   "execution_count": 8,
   "metadata": {},
   "outputs": [],
   "source": [
    "salarios_anuales = []\n",
    "for s in salarios:\n",
    "    salarios_anuales.append(salario_anual(s))"
   ]
  },
  {
   "cell_type": "code",
   "execution_count": 9,
   "metadata": {},
   "outputs": [
    {
     "data": {
      "text/plain": [
       "[96000, 84000, 168000, 228000, 204000, 72000, 67200]"
      ]
     },
     "execution_count": 9,
     "metadata": {},
     "output_type": "execute_result"
    }
   ],
   "source": [
    "salarios_anuales"
   ]
  },
  {
   "cell_type": "code",
   "execution_count": 10,
   "metadata": {},
   "outputs": [],
   "source": [
    "salarios = numpy.array(salarios)"
   ]
  },
  {
   "cell_type": "code",
   "execution_count": 11,
   "metadata": {},
   "outputs": [
    {
     "data": {
      "text/plain": [
       "array([ 8000,  7000, 14000, 19000, 17000,  6000,  5600])"
      ]
     },
     "execution_count": 11,
     "metadata": {},
     "output_type": "execute_result"
    }
   ],
   "source": [
    "salarios"
   ]
  },
  {
   "cell_type": "code",
   "execution_count": 12,
   "metadata": {},
   "outputs": [
    {
     "data": {
      "text/plain": [
       "array([ 96000,  84000, 168000, 228000, 204000,  72000,  67200])"
      ]
     },
     "execution_count": 12,
     "metadata": {},
     "output_type": "execute_result"
    }
   ],
   "source": [
    "salario_anual(salarios)"
   ]
  },
  {
   "cell_type": "code",
   "execution_count": 14,
   "metadata": {},
   "outputs": [
    {
     "data": {
      "text/plain": [
       "10942.857142857143"
      ]
     },
     "execution_count": 14,
     "metadata": {},
     "output_type": "execute_result"
    }
   ],
   "source": [
    "salarios.mean()"
   ]
  },
  {
   "cell_type": "code",
   "execution_count": 17,
   "metadata": {},
   "outputs": [
    {
     "data": {
      "text/plain": [
       "5184.277644366431"
      ]
     },
     "execution_count": 17,
     "metadata": {},
     "output_type": "execute_result"
    }
   ],
   "source": [
    "salarios.std()"
   ]
  },
  {
   "cell_type": "code",
   "execution_count": 20,
   "metadata": {},
   "outputs": [
    {
     "data": {
      "text/plain": [
       "76600"
      ]
     },
     "execution_count": 20,
     "metadata": {},
     "output_type": "execute_result"
    }
   ],
   "source": [
    "salarios.sum()"
   ]
  },
  {
   "cell_type": "code",
   "execution_count": 21,
   "metadata": {},
   "outputs": [],
   "source": [
    "#graficas\n",
    "import matplotlib.pyplot as plt"
   ]
  },
  {
   "cell_type": "code",
   "execution_count": 32,
   "metadata": {},
   "outputs": [],
   "source": [
    "def estrategia(inversion_inicial,tasa,tiempo):\n",
    "    return inversion_inicial*(1+tasa)**tiempo"
   ]
  },
  {
   "cell_type": "code",
   "execution_count": 50,
   "metadata": {},
   "outputs": [
    {
     "name": "stdout",
     "output_type": "stream",
     "text": [
      "por cuantos anos quieres modelar: 35\n",
      "cada cuando hacer corte: 12\n",
      "inversion inicial: 25000\n",
      "tasa mensual compuesta: .09\n"
     ]
    },
    {
     "data": {
      "image/png": "[encoded data removed]",
      "text/plain": [
       "<Figure size 720x432 with 1 Axes>"
      ]
     },
     "metadata": {
      "needs_background": "light"
     },
     "output_type": "display_data"
    }
   ],
   "source": [
    "#CAPTACION DE INPUTS\n",
    "plazo = int(input('por cuantos anos quieres modelar: '))\n",
    "periodo = int(input('cada cuando hacer corte: '))\n",
    "inversion = float(input('inversion inicial: '))\n",
    "tasa = float(input('tasa mensual compuesta: '))\n",
    "\n",
    "#CREACION DE INPUTS\n",
    "tiempos = numpy.arange(0,12*plazo,periodo)\n",
    "INVERSION = inversion\n",
    "TASA = tasa\n",
    "rendimiento = estrategia(INVERSION,TASA,tiempos)\n",
    "\n",
    "#CREACION DE LA GRAFICA\n",
    "plt.figure(figsize = (10,6)) #primera linea siempre\n",
    "plt.title('Rendimiento Inversion')\n",
    "plt.xlabel('Tiempo')\n",
    "plt.ylabel('Fondo $')\n",
    "plt.plot(tiempos,rendimiento,'y-o',label='inversion')\n",
    "plt.legend()\n",
    "plt.show() #ultima linea siempre"
   ]
  },
  {
   "cell_type": "code",
   "execution_count": 51,
   "metadata": {},
   "outputs": [],
   "source": [
    "#WEB DEVELOPMENT\n",
    "\n",
    "#FRONT-END\n",
    "### --> tODO LO QUE VE EL USUARIO;\n",
    "###     HTML y CSS\n",
    "###     Dinamica: JavaScript\n",
    "\n",
    "#BACK-END\n",
    "### --> SERVIDOR + BASE DE DATOS + MANEJO DE USUARIOS + ALGORITMO UNICO\n",
    "###     NodeJS, Django, Flask"
   ]
  },
  {
   "cell_type": "code",
   "execution_count": 52,
   "metadata": {},
   "outputs": [],
   "source": [
    "continentes = {\n",
    "    'asia': 10,\n",
    "    'europa': 3,\n",
    "    'america': 5,\n",
    "    'oceania': 1,\n",
    "    'africa': 2\n",
    "}"
   ]
  },
  {
   "cell_type": "code",
   "execution_count": 89,
   "metadata": {},
   "outputs": [],
   "source": [
    "def simulacion(poblacion_inicial,iteraciones):\n",
    "    POB = poblacion_inicial\n",
    "    for i in range(iteraciones):\n",
    "        P = numpy.array(list(POB.values()))/sum(list(POB.values()))\n",
    "        nueva_persona = numpy.random.choice(list(POB.keys()),p=P)\n",
    "        pob_pasada = POB[nueva_persona]\n",
    "        POB[nueva_persona] = pob_pasada + 1\n",
    "    return POB"
   ]
  },
  {
   "cell_type": "code",
   "execution_count": 90,
   "metadata": {},
   "outputs": [
    {
     "data": {
      "text/plain": [
       "{'asia': 29880,\n",
       " 'europa': 26299,\n",
       " 'america': 32326,\n",
       " 'oceania': 6625,\n",
       " 'africa': 4891}"
      ]
     },
     "execution_count": 90,
     "metadata": {},
     "output_type": "execute_result"
    }
   ],
   "source": [
    "simulacion(continentes,100000)"
   ]
  }
 ],
 "metadata": {
  "kernelspec": {
   "display_name": "Python 3",
   "language": "python",
   "name": "python3"
  },
  "language_info": {
   "codemirror_mode": {
    "name": "ipython",
    "version": 3
   },
   "file_extension": ".py",
   "mimetype": "text/x-python",
   "name": "python",
   "nbconvert_exporter": "python",
   "pygments_lexer": "ipython3",
   "version": "3.8.5"
  }
 },
 "nbformat": 4,
 "nbformat_minor": 4
}
